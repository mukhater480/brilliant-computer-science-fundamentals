{
 "cells": [
  {
   "cell_type": "markdown",
   "metadata": {},
   "source": [
    "# Binary Trees"
   ]
  },
  {
   "cell_type": "markdown",
   "metadata": {},
   "source": [
    "## Section 1\n",
    "\n",
    "In binary trees, every node can only have two or fewer children. The number of children each node has in a tree is called the branching factor, and each node has exactly one parent. The branching factor for a binary tree is 2.\n",
    "\n",
    "Much like a linked list, a node contains a value and a pointer to another node. However, for a binary tree, there is a second pointer that points to another node.\n",
    "\n",
    "<img src=\"../images_new/cs_fund_02.png\" alt=\"Drawing\" style=\"width: 200px;\"/>\n",
    "\n",
    "```python\n",
    "class Node:\n",
    "    def __init__(self, value=None, left=None, right=None):\n",
    "        self.value = value # information that is being stored in the tree\n",
    "        self.left = left   # the left child (subtree)\n",
    "        self.right = right # the right child (subtree)\n",
    "\n",
    "    def __str__(self):\n",
    "        return str(self.value)\n",
    "\n",
    "```"
   ]
  },
  {
   "cell_type": "markdown",
   "metadata": {},
   "source": [
    "## Section 2\n",
    "\n",
    "Binary Tree:\n",
    "- A binary tree is made up of nodes and branches.\n",
    "- The **nodes** represent the data stored in the tree.\n",
    "- The top node is called the **root**, and every node other than the root is the child of exactly one other node that points to it called the parent of that node. \n",
    "- The pointer from one node to another is called a branch. \n",
    "- Nodes pointing to no other nodes are called **leaves**.\n",
    "\n",
    "Nodes are simply a bigger branch that can split two two smaller branches. Think of them like a decision tree (it is a Decision Tree)!\n",
    "\n",
    "<img src=\"../images_new/cs_fund_03.png\" alt=\"Drawing\" style=\"width: 200px;\"/>\n"
   ]
  },
  {
   "cell_type": "markdown",
   "metadata": {},
   "source": [
    "## Section 3\n",
    "\n",
    "We will see later that, in order to maximize the efficiency with which we can store and search for elements in a binary tree, it will be important to pay close attention to three quantities:\n",
    "- **depth**: The depth of a node is the number of branches from the root to the node (any node).\n",
    "- **node height**: The node height is the number of nodes from between the original node and the deepest leaf that is a descendent.\n",
    "- **tree height**: The tree height is the node height of the root, i.e. the number of branches along the longest path in the tree.\n",
    "\n",
    "<img src=\"../images_new/cs_fund_04.png\" alt=\"Drawing\" style=\"width: 200px;\"/>\n"
   ]
  }
 ],
 "metadata": {
  "kernelspec": {
   "display_name": "Python 3",
   "language": "python",
   "name": "python3"
  },
  "language_info": {
   "codemirror_mode": {
    "name": "ipython",
    "version": 3
   },
   "file_extension": ".py",
   "mimetype": "text/x-python",
   "name": "python",
   "nbconvert_exporter": "python",
   "pygments_lexer": "ipython3",
   "version": "3.7.3"
  },
  "toc": {
   "base_numbering": 1,
   "nav_menu": {},
   "number_sections": true,
   "sideBar": true,
   "skip_h1_title": false,
   "title_cell": "Table of Contents",
   "title_sidebar": "Contents",
   "toc_cell": false,
   "toc_position": {},
   "toc_section_display": true,
   "toc_window_display": false
  },
  "varInspector": {
   "cols": {
    "lenName": 16,
    "lenType": 16,
    "lenVar": 40
   },
   "kernels_config": {
    "python": {
     "delete_cmd_postfix": "",
     "delete_cmd_prefix": "del ",
     "library": "var_list.py",
     "varRefreshCmd": "print(var_dic_list())"
    },
    "r": {
     "delete_cmd_postfix": ") ",
     "delete_cmd_prefix": "rm(",
     "library": "var_list.r",
     "varRefreshCmd": "cat(var_dic_list()) "
    }
   },
   "types_to_exclude": [
    "module",
    "function",
    "builtin_function_or_method",
    "instance",
    "_Feature"
   ],
   "window_display": false
  }
 },
 "nbformat": 4,
 "nbformat_minor": 2
}
