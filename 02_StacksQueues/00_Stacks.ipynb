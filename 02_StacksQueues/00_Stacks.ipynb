{
 "cells": [
  {
   "cell_type": "markdown",
   "metadata": {},
   "source": [
    "# Stacks"
   ]
  },
  {
   "cell_type": "markdown",
   "metadata": {},
   "source": [
    "## Section 1\n",
    "\n",
    "An important technique in computer science is storing a bunch of data and then being able to access the data in the opposite order in which it was stored i.e. \"last-In, first-out\", or LIFO\n",
    "\n",
    "**Stack**\n",
    "- An abstract data type that places restrictions on where you can add and remove elements. \n",
    "- A good analogy is to think of a stack as a stack of books; you can remove only the top book, and you can only add a new book on the top. \n",
    "- A stack has a variety of applications such as in reversing the order of elements, evaluating polish strings, etc.\n",
    "- This end is commonly referred to as the \"top.\" \n",
    "- The end opposite to it is known as the \"bottom\". \n",
    "- The principle by which a stack is ordered is called LIFO (shorthand for last-in first-out). \n",
    "- As with any abstract data type, a stack can be implemented with a variety of data structures, such as a linked list or an array.\n",
    "- Applications\n",
    "    - Reversing the order of elements\n",
    "    - Undo mechanism (e.g. undoing the last few actions)\n",
    "    - Evaluating **Reverse Polish Notations**\n",
    "    \n",
    "- **Reverse Polish Notations**\n",
    "    - While it's a bit weird to understand, the idea is that it converts infix notation to some intermediate format\n",
    "    - If we use the following equation: $4+18/(9-3)$\n",
    "    - Using stacks, we can solve the equations:\n",
    "    - The order of operation for stacks is $4,18,9,3,-,/,+$\n",
    "    - <img src=\"../../images/cs_fund_05.png\" alt=\"Drawing\" style=\"width: 300px;\"/>\n",
    "    - For example, after thep 4, we subract 9-3, which is why we see 6 in the stack"
   ]
  },
  {
   "cell_type": "markdown",
   "metadata": {},
   "source": [
    "## Section 2\n",
    "\n",
    "When you have a stack, like a stack of books, the two obvious things you can do are to add a book to the top or remove a book and read it.\n",
    "\n",
    "In computer terms, these two functions are called:\n",
    "- “push” for “pushing” elements onto a stack\n",
    "- “pop” for popping an element off the stack.\n",
    "\n",
    "\n",
    "A computer stack is similar to a stack of books in that it is simply a set of data that is in memory. \n",
    "- You can add an element to the top of the stack using the push commands\n",
    "- You can access the top element using the pop command (which also removes the top element from the stack)\n",
    "\n",
    "\n",
    "Stack overflow VS. Stack underflow\n",
    "- If you push beyond the allocated space for the stack you get a “stack overflow” error\n",
    "- If you pop when the stack is empty, you get a “stack underflow” error"
   ]
  },
  {
   "cell_type": "markdown",
   "metadata": {},
   "source": [
    "## Section 3\n",
    "\n",
    "- Count\n",
    "    - At any particular time, it is useful to find out how many elements are in a stack. As we saw in the previous example, if you try to pop something off an empty stack, you get the rather unfortunate “stack underflow error.” \n",
    "    - With a count, you can know if there are enough elements to complete an operation or set of operations.\n",
    "    - The size command helps us out here. It tells us the size of the stack, that is, the number of elements it contains."
   ]
  },
  {
   "cell_type": "markdown",
   "metadata": {},
   "source": [
    "## Section 4\n",
    "\n",
    "Problem Statement: \n",
    "- A chef wants to fix his pancakes so that they are all burnt side down. To do so, he can only use the flip operation on his stack of pancakes, i.e., he inserts his spatula at some point in between the stack of the pancakes and flips the ones above the spatula, like this:\n",
    "- The chef, being cunning, will make sure that he'll fix any stack of pancakes in the least number of flips he can.\n",
    "- For which one of these three stacks of pancakes would he require the most number of flips?\n",
    "\n",
    "\n",
    "Answer:\n",
    "- If the bottom three are burnt side down, the second from the top is burnt side up and the top one is burnt side down? Well, now it's 2 flips. First the chef flips the top pancake, making it burnt side up as well. Then, he flips the top two pancakes, fixing both at once.\n",
    "- If we extrapolate, to three varied pancakes, we'll find it takes three flips. And so on. We can establish a pattern here. Each flip reduces the number of varied borders (between pancakes of different orientation) by one. But also, we have +1 extra flip if the bottom pancake is burnt side up.\n"
   ]
  },
  {
   "cell_type": "markdown",
   "metadata": {},
   "source": [
    "## Section 5\n",
    "\n",
    "Problem Statement:\n",
    "- Suppose Walt Disney decides to model a line at Disneyland as a stack. He would like the top of the stack to represent the end of the line, and the bottom of the stack to represent the front of the line.\n",
    "- So, if someone new stands in line, he adds them to the top of the stack. When someone gets on the ride, he will need to somehow remove them from the bottom of the stack rather than the top.\n",
    "- If he has 500 people waiting in line, how many operations on the stack will be required in order to model the line's first inhabitant getting on the ride?\n",
    "\n",
    "\n",
    "Answer:\n",
    "- To access the bottom of the stack, he would need to pop 499 people off of the stack, then pop off the person who gets on the ride, and then he’d need to push the other 499 people back onto the stack. That is 999 operations in total.\n"
   ]
  },
  {
   "cell_type": "markdown",
   "metadata": {},
   "source": [
    "## Section 6\n",
    "\n",
    "Problem Statement\n",
    "- Stephanie Stacker decides she wants to set up a queue using two stacks. She assumes that stack1 will always contain the data in the “correct” order, so the top of stack1 will represent the tail of the queue where data is added and the bottom will represent the head. Removing from the top of stack1 will always give the most recently added data.\n",
    "- In contrast, when stack2 contains data, it is reversed, with its top representing the head of a queue where data is removed. Removing from its top will always give the oldest data still stored. We will also assume that at any given time at least one stack is completely empty.\n",
    "- With these assumptions, she puts together the following to implement the `dequeue()` function:\n",
    "    - If stack1 contains data, then pop all the elements off of stack1 and put them on stack2.\n",
    "    - Pop an element off of stack2.\n",
    "- And, she implements the `enqueue(i)` function as follows:\n",
    "    - If stack2 contains data, then pop all the elements off of stack2 putting them on stack1.\n",
    "    - Push element ii onto stack1.\n",
    "- Will this algorithm work?\n",
    "\n",
    "Answer\n",
    "- Still unclear\n",
    "- ENQUEUE (Add data to the tail.)\n",
    "    - When we add an element to the queue, we would like to add it to the tail. This is on the top in stack1, so, if the data is in stack1 we simply push the new value to the top of stack1. Otherwise, we pop all the data off of stack2 and onto stack1, which puts the tail back onto the top of stack one, and allows us to add the new element to the tail.\n",
    "- DEQUEUE (Remove element from the head.)\n",
    "    - When we remove an element from the queue, we would like to remove it from the head. So, if the data is in stack2, we already have the head at the top of the stack so we simply pop it off. Otherwise, we pop elements sequentially off of stack1 onto stack2 until we get the head to the top of stack2, and then pop it off.\n"
   ]
  }
 ],
 "metadata": {
  "hide_input": false,
  "kernelspec": {
   "display_name": "Python 3",
   "language": "python",
   "name": "python3"
  },
  "language_info": {
   "codemirror_mode": {
    "name": "ipython",
    "version": 3
   },
   "file_extension": ".py",
   "mimetype": "text/x-python",
   "name": "python",
   "nbconvert_exporter": "python",
   "pygments_lexer": "ipython3",
   "version": "3.7.3"
  },
  "toc": {
   "base_numbering": 1,
   "nav_menu": {},
   "number_sections": false,
   "sideBar": true,
   "skip_h1_title": true,
   "title_cell": "Table of Contents",
   "title_sidebar": "Contents",
   "toc_cell": false,
   "toc_position": {},
   "toc_section_display": true,
   "toc_window_display": false
  },
  "varInspector": {
   "cols": {
    "lenName": 16,
    "lenType": 16,
    "lenVar": 40
   },
   "kernels_config": {
    "python": {
     "delete_cmd_postfix": "",
     "delete_cmd_prefix": "del ",
     "library": "var_list.py",
     "varRefreshCmd": "print(var_dic_list())"
    },
    "r": {
     "delete_cmd_postfix": ") ",
     "delete_cmd_prefix": "rm(",
     "library": "var_list.r",
     "varRefreshCmd": "cat(var_dic_list()) "
    }
   },
   "types_to_exclude": [
    "module",
    "function",
    "builtin_function_or_method",
    "instance",
    "_Feature"
   ],
   "window_display": false
  }
 },
 "nbformat": 4,
 "nbformat_minor": 2
}
