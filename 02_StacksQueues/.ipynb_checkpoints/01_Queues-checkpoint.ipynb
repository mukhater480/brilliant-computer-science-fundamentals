{
 "cells": [
  {
   "cell_type": "markdown",
   "metadata": {},
   "source": [
    "# Queues"
   ]
  },
  {
   "cell_type": "markdown",
   "metadata": {},
   "source": [
    "## Section 1\n",
    "\n",
    "**Think of the two ends of the queue as the head and the tail.**\n",
    "- Fuctionality: FIFO (First-In-First-Out)\n",
    "- The head is where elements are removed from the queue.\n",
    "- The tail is where they are added to the queue.\n",
    "- For linear queues, like the one above, every time an element is removed from the queue, all the other elements are moved up one.\n",
    "- <img src=\"./images/cs_fund_06.png\" alt=\"Drawing\" style=\"width: 300px;\"/>"
   ]
  },
  {
   "cell_type": "markdown",
   "metadata": {},
   "source": [
    "## Section 2\n",
    "\n",
    "As with stacks, queues have four operators, two basic operators:\n",
    "- Basic Operators:\n",
    "    - `enqueue(i)`: inserts element i at the tail end of the queue;\n",
    "    - `dequeue()`: removes the element at the head of the queue and return its value.\n",
    "- Additional Operators:\n",
    "    - `size()`: returns current size of the queue;\n",
    "    - `peek()`: peeks at the element at the head of the queue without changing the queue."
   ]
  },
  {
   "cell_type": "markdown",
   "metadata": {},
   "source": [
    "## Section 3\n",
    "\n",
    "Problem Statement:\n",
    "- How does the average runtime for “popping” elements off the top of a stack compare with the average runtime for “dequeuing” elements from a queue? (Assume there are at least 100 elements on the stack/queue and that we are using simple arrays to represent the stack and queues in the way outlined in previous slides)\n",
    "\n",
    "Answer:\n",
    "- To pop an element off of a stack, you need to remove that element and the rest of the elements stay where they are. Runtime: `O(1)`\n",
    "- To dequeue the element at the head of a queue, all the other elements need to move forward one, so the runtime is `O(n)`, with `n` being the number of elements before any number is dequeued.\n",
    "\n",
    "\n"
   ]
  },
  {
   "cell_type": "markdown",
   "metadata": {},
   "source": [
    "## Section 4\n",
    "\n",
    "The major downfall of Queues is the runtime. As compared in the previous section, queues requires all the $ith$ value in $n$ to be move one element.\n",
    "\n",
    "However, this can be avoided by introducing circular queues.\n",
    "\n",
    "The main difference between linear queue and circular queue is that a linear queue arranges data in sequential order, one after the other, while a circular queue arranges data similar to a circle by connecting the last element back to the first element.\n",
    "- In a circular queue, data is not actually removed from the queue. Only the head pointer is incremented by one position when dequeue is executed.\n",
    "- As the queue data is only the data between `head` and `tail`, hence the data left outside is not a part of the queue anymore, hence removed.\n",
    "- The `head` and the `tail` pointer will get reinitialised to 0 every time they reach the end of the queue."
   ]
  },
  {
   "cell_type": "markdown",
   "metadata": {},
   "source": [
    "## Section 5 \n",
    "\n",
    "Problem Statement:\n",
    "- You have a stack with 20 elements and a queue with 35 elements. Then you perform the following code 80 times:\n",
    "- Here, the first line above removes the top element of the stack and inserts it into the queue, while the second removes the last element of the queue and insert it into the stack.\n",
    "- How many of the 55 total elements are involved in this process? That is, how many distinct elements from the stack and the queue get enqueued, popped, pushed, or dequeued?\n",
    "\n",
    "Answer:\n",
    "- Through visualization: \n",
    "    - *Let's run through this a few times to see what happens. Don't worry, we won't need to run through it 80 times!*\n",
    "    - *Let's suppose the stack is 20 elements: (a,b,c,d,...,s,t) .(a,b,c,d,...,s,t).*\n",
    "    - *Let's suppose the queue is 35 elements: (1,2,3,4,...,34,35).(1,2,3,4,...,34,35).*\n",
    "    - <img src=\"../images_new/cs_fund_00.png\" alt=\"Drawing\" style=\"width: 300px;\"/>\n",
    "    - Thus, in the stack, only the first item get modified whereas in the queues, all items are modified"
   ]
  },
  {
   "cell_type": "markdown",
   "metadata": {},
   "source": [
    "## Section 6\n",
    "\n",
    "Problem Statement:\n",
    "- Stephanie Stacker decides she wants to set up a queue using two stacks. She assumes that stack1 will always contain the data in the “correct” order, so the top of stack1 will represent the tail of the queue where data is added and the bottom will represent the head. Removing from the top of stack1 will always give the most recently added data.\n",
    "    - Meaning: Remember that in stacks, we have to pop items of the front. More clearly, the top of a stock (where we pop items off) is the equivalent as the tail of queue as the items come out from the end (starts at the beginning and moves down)! Also, it's assumed that 5 is the most recent data!\n",
    "- In contrast, when stack2 contains data, it is reversed, with its top representing the head of a queue where data is removed. Removing from its top will always give the oldest data still stored. We will also assume that at any given time at least one stack is completely empty.\n",
    "    - Meaning: Similar to the previous point. Only difference is that the queue is in reversed.\n",
    "- With these assumptions, she puts together the following to implement the dequeue() function:\n",
    "    - If stack1 contains data, then pop all the elements off of stack1 and put them on stack2.\n",
    "    - Pop an element off of stack2.\n",
    "- And, she implements the enqueue(i) function as follows:\n",
    "    - If stack2 contains data, then pop all the elements off of stack2 putting them on stack1.\n",
    "    - Push element ii onto stack1.\n",
    "    - Will this algorithm work?\n",
    "\n",
    "Answer:\n",
    "- <img src=\"../images_new/cs_fund_01.png\" alt=\"Drawing\" style=\"width: 300px;\"/>\n",
    "- The enqueue(i) and dequeue() algorithms work as follows:\n",
    "    - ENQUEUE (Add data to the tail.)\n",
    "        - When we add an element to the queue, we would like to add it to the tail. This is on the top in stack1, so, if the data is in stack1 we simply push the new value to the top of stack1. Otherwise, we pop all the data off of stack2 and onto stack1, which puts the tail back onto the top of stack one, and allows us to add the new element to the tail.\n",
    "        - Meaning: The idea is that if we have data on the stack (correctly ordered, first item for the stack is the last item for queue), we can simply \"pop\" it off.\n",
    "    - DEQUEUE (Remove element from the head.)\n",
    "        - When we remove an element from the queue, we would like to remove it from the head. So, if the data is in stack2, we already have the head at the top of the stack so we simply pop it off. Otherwise, we pop elements sequentially off of stack1 onto stack2 until we get the head to the top of stack2, and then pop it off.\n",
    "        - Meaning: Because stack2 is in reverse, when removing elements from the head, we can just pop it off!"
   ]
  }
 ],
 "metadata": {
  "hide_input": false,
  "kernelspec": {
   "display_name": "Python 3",
   "language": "python",
   "name": "python3"
  },
  "language_info": {
   "codemirror_mode": {
    "name": "ipython",
    "version": 3
   },
   "file_extension": ".py",
   "mimetype": "text/x-python",
   "name": "python",
   "nbconvert_exporter": "python",
   "pygments_lexer": "ipython3",
   "version": "3.7.3"
  },
  "toc": {
   "base_numbering": 1,
   "nav_menu": {},
   "number_sections": false,
   "sideBar": true,
   "skip_h1_title": true,
   "title_cell": "Table of Contents",
   "title_sidebar": "Contents",
   "toc_cell": false,
   "toc_position": {},
   "toc_section_display": true,
   "toc_window_display": false
  },
  "varInspector": {
   "cols": {
    "lenName": 16,
    "lenType": 16,
    "lenVar": 40
   },
   "kernels_config": {
    "python": {
     "delete_cmd_postfix": "",
     "delete_cmd_prefix": "del ",
     "library": "var_list.py",
     "varRefreshCmd": "print(var_dic_list())"
    },
    "r": {
     "delete_cmd_postfix": ") ",
     "delete_cmd_prefix": "rm(",
     "library": "var_list.r",
     "varRefreshCmd": "cat(var_dic_list()) "
    }
   },
   "types_to_exclude": [
    "module",
    "function",
    "builtin_function_or_method",
    "instance",
    "_Feature"
   ],
   "window_display": false
  }
 },
 "nbformat": 4,
 "nbformat_minor": 2
}
