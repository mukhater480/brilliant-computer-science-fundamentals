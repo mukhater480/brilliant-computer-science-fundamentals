{
 "cells": [
  {
   "cell_type": "markdown",
   "metadata": {},
   "source": [
    "# Merge Sort"
   ]
  },
  {
   "cell_type": "markdown",
   "metadata": {},
   "source": [
    "## Section 1\n",
    "\n",
    "At a high level, mergesort applies the three steps of divide and conquer to sort a list of numbers:\n",
    "1. Divide: Split the list into two (approximately) equally sized lists.\n",
    "2. Conquer: Sort each of the two lists separately (using mergesort itself!).\n",
    "3. Combine: Given two sorted lists of approximately the same size, merge them into one big sorted list.\n",
    "\n",
    "As far as a recursive call, Conquer is the only step that would require it. We know from the problem statement that the conquer step is sorting the two separated lists after they're divided.\n",
    "\n",
    "- Mergesort has two steps: merging and sorting. The algorithm uses a divide-and-conquer approach to merge and sort a list.\n",
    "- Mergesort runs in a guaranteed $O(nlogn)$ time, which is significantly faster than the average- and worst-case running times of several other sorting algorithms.\n",
    "    - The reason that its more time efficient that linear times is that it will be able to compute a sorted list in different segments rather that individually going through a list.\n",
    "\n"
   ]
  },
  {
   "cell_type": "markdown",
   "metadata": {},
   "source": [
    "## Section 2\n",
    "\n",
    "Below is a screenshot of a visual representation of the algorithm.\n",
    "- <img src=\"../../images/cs_fund_01.png\" alt=\"Drawing\" style=\"width: 200px;\"/>\n",
    "\n",
    "\n",
    "We can also think of a **Merge-Sort** in the following:\n",
    "- Split the $N$ elements of the list into $N$ separate lists, each of size one.\n",
    "- Pair adjacent lists and merge them, resulting in about half as many lists each about twice the size.\n",
    "- Repeat step 2 until you have one list of size $N$ \n",
    "\n",
    "\n",
    "Note that this second approach simplifies the first half of the algorithm, eliminating the divide and conquer algorithm used to separate the list of $N$ elements into $N$ lists each with a single element:\n",
    "- <img src=\"../../images/cs_fund_02.png\" alt=\"Drawing\" style=\"width: 300px;\"/>"
   ]
  },
  {
   "cell_type": "markdown",
   "metadata": {},
   "source": [
    "## Section 3\n",
    "\n",
    "**Insertion VS. Merge-Sort**\n",
    "- Merge-Sort is an effective method because its Big-O Notation instead of comparing one item with every item in the list (Insertion), it leverages its splitting in halves until it reaches a comparision of $N$ items.\n",
    "- Runtime:\n",
    "    - $O((the no. of steps)(worst case no. of comparisons))$\n",
    "    - $((log_2N)*(N))$\n",
    "    - $(Nlog_2N)$\n",
    "- Unlike an Insertion or Bubble Sort, we do not have to rely on the Big O Notation of $O(N^2)$\n",
    "- Example for 1,000,000 items:\n",
    "    - $O(N^2)$ and $O(Nlog2_N)$\n",
    "    - Reducing the formula: $N/log2_N$\n",
    "    - 1,000,000/20 = 50,000"
   ]
  },
  {
   "cell_type": "markdown",
   "metadata": {},
   "source": [
    "## Section 4\n",
    "\n",
    "When we look at the best sorted algorithms, we learn that the **Merge-Sort** is the best algorithm to compute...\n",
    "- There are several algorithms with this average case run-time, differing in their approach, space complexity, worst-case runtimes, and “real-world” performance.\n"
   ]
  }
 ],
 "metadata": {
  "hide_input": false,
  "kernelspec": {
   "display_name": "Python 3",
   "language": "python",
   "name": "python3"
  },
  "language_info": {
   "codemirror_mode": {
    "name": "ipython",
    "version": 3
   },
   "file_extension": ".py",
   "mimetype": "text/x-python",
   "name": "python",
   "nbconvert_exporter": "python",
   "pygments_lexer": "ipython3",
   "version": "3.6.8"
  },
  "toc": {
   "base_numbering": 1,
   "nav_menu": {},
   "number_sections": false,
   "sideBar": true,
   "skip_h1_title": true,
   "title_cell": "Table of Contents",
   "title_sidebar": "Contents",
   "toc_cell": false,
   "toc_position": {},
   "toc_section_display": true,
   "toc_window_display": false
  },
  "varInspector": {
   "cols": {
    "lenName": 16,
    "lenType": 16,
    "lenVar": 40
   },
   "kernels_config": {
    "python": {
     "delete_cmd_postfix": "",
     "delete_cmd_prefix": "del ",
     "library": "var_list.py",
     "varRefreshCmd": "print(var_dic_list())"
    },
    "r": {
     "delete_cmd_postfix": ") ",
     "delete_cmd_prefix": "rm(",
     "library": "var_list.r",
     "varRefreshCmd": "cat(var_dic_list()) "
    }
   },
   "types_to_exclude": [
    "module",
    "function",
    "builtin_function_or_method",
    "instance",
    "_Feature"
   ],
   "window_display": false
  }
 },
 "nbformat": 4,
 "nbformat_minor": 2
}
