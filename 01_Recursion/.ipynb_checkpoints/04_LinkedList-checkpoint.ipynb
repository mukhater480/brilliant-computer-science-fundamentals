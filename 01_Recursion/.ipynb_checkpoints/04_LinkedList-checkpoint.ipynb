{
 "cells": [
  {
   "cell_type": "markdown",
   "metadata": {},
   "source": [
    "# Linked List"
   ]
  },
  {
   "cell_type": "markdown",
   "metadata": {},
   "source": [
    "## Section 1\n",
    "\n",
    "In order to implement any of these algorithms, we need a good structure in which to store the data. \n",
    "\n",
    "We’re now going to introduce the concept of recursive data structures, which are widely-used data structures in computer science.\n",
    "\n"
   ]
  },
  {
   "cell_type": "markdown",
   "metadata": {},
   "source": [
    "## Section 2\n",
    "\n",
    "A linked list is a linear data structure, in which the elements are not stored at contiguous memory locations. In simple words, a linked list consists of nodes where each node contains a data field and a reference(link) to the next node in the list.\n",
    "\n",
    "\n",
    "Access Time VS. Insertion Time\n",
    "- Arrays typically have an access time of $O(1)$ and an insertion time of $O(n)$\n",
    "- A Linked List has an access time of $O(n)$ and an insertion time of $O(1)$\n",
    "\n",
    "\n",
    "In essence:\n",
    "- It means that it takes the same amount of time to look up a value in your collection whether you have a small number of items in your collection or very very many (within the constraints of your hardware) because all the items are connected and thus, you must search through every item in a linked list.\n",
    "- $O(n)$ would mean that the time it takes to look up an item is proportional to the number of items in the collection.\n",
    "- Typical examples of these are arrays, which can be accessed directly, regardless of their size, and linked lists, which must be traversed in order from the beginning to access a given item."
   ]
  },
  {
   "cell_type": "markdown",
   "metadata": {},
   "source": [
    "## Section 3\n",
    "\n",
    "On the problem of Traverse, remember that the last item to go through the recursive function will be printed and thus, the output is the opposite of the input.\n",
    "\n"
   ]
  },
  {
   "cell_type": "markdown",
   "metadata": {},
   "source": [
    "## Section 4\n",
    "\n",
    "Using the linked list below:\n",
    "- <img src=\"../../images/cs_fund_04.png\" alt=\"Drawing\" style=\"width: 300px;\"/>\n",
    "- It would take 2 steps to reach the third element (N3) from the first element (N1)\n",
    "- It would take 9 steps to reach the tenth element (N10) from the first element (N1)\n",
    "- Notice that linked list have $O(N)$ runtime for acess, on average.\n",
    "\n"
   ]
  }
 ],
 "metadata": {
  "hide_input": false,
  "kernelspec": {
   "display_name": "Python 3",
   "language": "python",
   "name": "python3"
  },
  "language_info": {
   "codemirror_mode": {
    "name": "ipython",
    "version": 3
   },
   "file_extension": ".py",
   "mimetype": "text/x-python",
   "name": "python",
   "nbconvert_exporter": "python",
   "pygments_lexer": "ipython3",
   "version": "3.7.3"
  },
  "toc": {
   "base_numbering": 1,
   "nav_menu": {},
   "number_sections": false,
   "sideBar": true,
   "skip_h1_title": true,
   "title_cell": "Table of Contents",
   "title_sidebar": "Contents",
   "toc_cell": false,
   "toc_position": {},
   "toc_section_display": true,
   "toc_window_display": false
  },
  "varInspector": {
   "cols": {
    "lenName": 16,
    "lenType": 16,
    "lenVar": 40
   },
   "kernels_config": {
    "python": {
     "delete_cmd_postfix": "",
     "delete_cmd_prefix": "del ",
     "library": "var_list.py",
     "varRefreshCmd": "print(var_dic_list())"
    },
    "r": {
     "delete_cmd_postfix": ") ",
     "delete_cmd_prefix": "rm(",
     "library": "var_list.r",
     "varRefreshCmd": "cat(var_dic_list()) "
    }
   },
   "types_to_exclude": [
    "module",
    "function",
    "builtin_function_or_method",
    "instance",
    "_Feature"
   ],
   "window_display": false
  }
 },
 "nbformat": 4,
 "nbformat_minor": 2
}
