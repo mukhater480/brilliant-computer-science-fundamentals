{
 "cells": [
  {
   "cell_type": "markdown",
   "metadata": {},
   "source": [
    "# Divide and Conquer"
   ]
  },
  {
   "cell_type": "markdown",
   "metadata": {},
   "source": [
    "## Section 1\n",
    "\n",
    "**Divide and Conquer**\n",
    "- divide a problem into equal sized sub-problems recursively;\n",
    "- conquer each problem separately, solving them recursively;\n",
    "- combine results.\n",
    "\n",
    "\n",
    "The nice thing about using the \"Divide and Conquer\" method is that it will help us solve smaller sub-problem than to solve the original problem. Some examples where the \"Divide and Conquer\" method are:\n",
    "- matrix multiplication\n",
    "- sorting algorithms\n",
    "- calculating a Fourier transform"
   ]
  },
  {
   "cell_type": "markdown",
   "metadata": {},
   "source": [
    "## Section 2\n",
    "\n",
    "Towers of Hanoi\n",
    "- You can see that all the disks are currently on a single tower. \n",
    "- Furthermore, every disk is stacked on top of disks that are strictly larger than it. \n",
    "- Disks are moved one at a time from the top of one tower to the top of another, and they can't be placed anywhere other than the three towers. \n",
    "- Additionally, disks must always be stacked on an empty tower or on top of larger disks. \n",
    "- The goal of the puzzle is to, by a sequence of disk moves, end up with all the disks stacked in order on some other tower.\n",
    "\n",
    "\n",
    "Problem Statement:\n",
    "- Which of the following recursive procedures might be used as the basis for a divide and conquer algorithm to solve this puzzle?\n",
    "- <img src=\"../../images/cs_fund_00.png\" alt=\"Drawing\" style=\"width: 200px;\"/>\n",
    "\n",
    "\n",
    "Solve:\n",
    "- With the recursive approach, we first consider the base case. For $n=1$, this is trivial, as we just need to move a disk from A to B.\n",
    "    - ` If (n == 1): #move the top disk on A to B`\n",
    "- The idea is that we move everything from A to C... and when do that, it will be an upside tower\n",
    "- Once we get last item in A, we move that to B\n",
    "- Since all the items in Tower C are upside down, we are able to transfer them all from Tower C to Tower B\n"
   ]
  },
  {
   "cell_type": "markdown",
   "metadata": {},
   "source": [
    "## Section 3\n",
    "\n",
    "Problem Statement\n",
    "- Suppose we have 243 identical-looking boxes each containing a drone ready to ship, but we remember that one box is missing instructions!\n",
    "- Assuming the worst case scenario, what is the minimum number of weighings needed to determine which box has the missing instructions?\n",
    "\n",
    "\n",
    "Solve:\n",
    "- We can use the method of divide and conquer. \n",
    "- In short, we'll divide the boxes into three groups with equal numbers of drones. \n",
    "- Then, we'll use the scale to determine which of these three groups contains the box in question.\n",
    "    - That leaves us with $1/3$ of our original boxes, and we can repeat the dividing process.\n",
    "- We are using third splits because if we were to use four, and if two groups were balanced, we wouldn't know which of the remaining splits is the one that weight less.\n",
    "- Since each time we divide the number of drones by three, after `1` weighing we will have the group of possibilities down to `81`. After `2` weighings it will be down to `27`. After `3`, it will be down to `9`. After `4`  it will be down to `3`, and then after weighing number `5` we will know which drone was missing the instructions!\n",
    "\n"
   ]
  },
  {
   "cell_type": "code",
   "execution_count": 1,
   "metadata": {
    "ExecuteTime": {
     "end_time": "2019-05-28T23:06:07.000307Z",
     "start_time": "2019-05-28T23:06:06.986125Z"
    }
   },
   "outputs": [
    {
     "data": {
      "text/plain": [
       "7.924812503605781"
      ]
     },
     "execution_count": 1,
     "metadata": {},
     "output_type": "execute_result"
    }
   ],
   "source": [
    "import numpy as np\n",
    "np.log2(243)"
   ]
  },
  {
   "cell_type": "markdown",
   "metadata": {},
   "source": [
    "## Section 4\n",
    "\n",
    "Problem Statement:\n",
    "- There is a diamond hidden on an $N x N$ grid on the square $(x_D, y_D)$, where $y_D$ and $x_D$ are integers. You will attempt to find the diamond's position with as few guesses as possible.\n",
    "- Every guess, you suggest a pair of coordinates $(x_G, y_G)$ which represent one of the squares on the grid. If the diamond isn't there you are given a hint as to where to go to continue looking. You are told either NW, N, NE, E, SE, S, SW, or W:\n",
    "\n",
    "Solve:\n",
    "- The idea is to understand that if your first guess in the middle, and lets say N is 3 by 3, then the total number of guesses to get the correct one (including the correct one) would be 2. \n",
    "- Think about it... if we are guessing the middle, and get it wrong, we are told the direction of the correct one and since there's only one corrdinate, we will find the correct one in our second guess.\n",
    "- Generalizing this, if you have  guesses, then you can be guaranteed success if $N = 2^n - 1$\n",
    "    - For n = 10, $2^{10} - 1$ = 1023\n"
   ]
  }
 ],
 "metadata": {
  "hide_input": false,
  "kernelspec": {
   "display_name": "Python 3",
   "language": "python",
   "name": "python3"
  },
  "language_info": {
   "codemirror_mode": {
    "name": "ipython",
    "version": 3
   },
   "file_extension": ".py",
   "mimetype": "text/x-python",
   "name": "python",
   "nbconvert_exporter": "python",
   "pygments_lexer": "ipython3",
   "version": "3.6.8"
  },
  "toc": {
   "base_numbering": 1,
   "nav_menu": {},
   "number_sections": false,
   "sideBar": true,
   "skip_h1_title": true,
   "title_cell": "Table of Contents",
   "title_sidebar": "Contents",
   "toc_cell": false,
   "toc_position": {},
   "toc_section_display": true,
   "toc_window_display": false
  },
  "varInspector": {
   "cols": {
    "lenName": 16,
    "lenType": 16,
    "lenVar": 40
   },
   "kernels_config": {
    "python": {
     "delete_cmd_postfix": "",
     "delete_cmd_prefix": "del ",
     "library": "var_list.py",
     "varRefreshCmd": "print(var_dic_list())"
    },
    "r": {
     "delete_cmd_postfix": ") ",
     "delete_cmd_prefix": "rm(",
     "library": "var_list.r",
     "varRefreshCmd": "cat(var_dic_list()) "
    }
   },
   "types_to_exclude": [
    "module",
    "function",
    "builtin_function_or_method",
    "instance",
    "_Feature"
   ],
   "window_display": false
  }
 },
 "nbformat": 4,
 "nbformat_minor": 2
}
