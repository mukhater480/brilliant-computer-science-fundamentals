{
 "cells": [
  {
   "cell_type": "markdown",
   "metadata": {},
   "source": [
    "# Quick Sort"
   ]
  },
  {
   "cell_type": "markdown",
   "metadata": {},
   "source": [
    "## Section 1\n",
    "\n",
    "Quick Sort has a similar average runtime as Merge-Sort. However, there are subtle difference that make both of these have difference:\n",
    "-  When implemented well, quicksort in practice can be 2~3 times faster than mergesort.\n",
    "- Although it has a worst case runtime of $O(N^2)$, overall quicksort tends to outperform mergesort in the real world, making it an attractive choice for many programmers.\n",
    "    - Recall that the worst case run time for Merge-Sort is $O(N)$!"
   ]
  },
  {
   "cell_type": "markdown",
   "metadata": {},
   "source": [
    "## Section 2\n",
    "\n",
    "**According the Brilliant, the main difference between Merge-Sort and Quicksort is the application of the divide and conquer method**\n",
    "- The main difference between quicksort and mergesort is in where the “heavy lifting” is done. \n",
    "- In mergesort, the dividing step is trivial and all the work is in combining the merged sub-lists at the end.  \n",
    "- In quicksort, the dividing step does all the work, and the combining step is trivial (in fact, non-existent!).\n",
    "\n",
    "Framed in our “divide and conquer” framework:\n",
    "- Divide--Pick a pivot element (typically the last item in the array). All numbers lower than this value go to the left and all elements higher to the right. For quicksort, this step is commonly known as partitioning.\n",
    "- Conquer--All elements to the left are fed recursively back into the algorithm, as are elements to the right.\n",
    "- Combine--No need to do anything at all. At this point the data should be sorted.- "
   ]
  },
  {
   "cell_type": "markdown",
   "metadata": {},
   "source": [
    "## Section 3\n",
    "\n",
    "Problem Statement:\n",
    "- Which list will run through quicksort more quickly, assuming we pick either the first or last element as our pivot?\n",
    "    - <img src=\"../../images/cs_fund_03.png\" alt=\"Drawing\" style=\"width: 300px;\"/>\n",
    "    \n",
    "    \n",
    "Answer:\n",
    "- If we think about the way quick is implemented, we realize that it pretty created two list. One lsit that is created to the left and right side of the pivot (number selected).\n",
    "- It'll be ideal that we select the number in the middle because it will compare two list simultaneously but if we only have large list, we would have to compare it with every single item.\n",
    "    - This occurs in the fitst list because every list to the right will have to be compared with the pivot."
   ]
  },
  {
   "cell_type": "markdown",
   "metadata": {},
   "source": [
    "## Section 4\n",
    "\n",
    "\n",
    "The key to a successful sort is picking the right pivot point. The following are some common approaches:\n",
    "- Select a random pivot point.\n",
    "- Select the first or last element of the array.\n",
    "- “Median of three” method--pick out the first, middle, and last elements and choose the median of the three.\n",
    "    - Recall that you would need the middle index of the list!\n",
    "- Use an algorithm to find the median.\n",
    "- **If the data is sorted randomly, 1 and 2 are equivalent. However, the extra overhead in choosing 3 or 4 can be beneficial.**"
   ]
  },
  {
   "cell_type": "markdown",
   "metadata": {},
   "source": [
    "## Section 5\n",
    "\n",
    "Problem Statement:\n",
    "- Which of the following statements accurately compares quicksort and mergesort?\n",
    "\n",
    "\n",
    "Answer: All of the below\n",
    "1. For large $N$ and randomly distributed data, quicksort is usually faster than mergesort.\n",
    "    - In general, quicksort will run 2~3 times faster on average than mergesort. This is primarily because that the operations in the innermost loop are simpler, so they require less execution time.\n",
    "\n",
    "2. Quicksort runtime ranges from $O(N^2)$ to $O(Nlog_2N)$ but mergesort is always $O(Nlog_2N)$.\n",
    "    - Mergesort is a much more consistent algorithm, always performing the splits and merge steps, so it will always have a runtime of $O(Nlog_2N)$. However, depending on how the pivot point is chosen, quicksort's runtime can range from $O(N^2)$ to $O(Nlog_2N)$ for randomly distributed data.\n",
    "    \n",
    "3. The runtime of quicksort is more sensitive to the initial ordering of the array than mergesort is.\n",
    "    - "
   ]
  }
 ],
 "metadata": {
  "hide_input": false,
  "kernelspec": {
   "display_name": "Python 3",
   "language": "python",
   "name": "python3"
  },
  "language_info": {
   "codemirror_mode": {
    "name": "ipython",
    "version": 3
   },
   "file_extension": ".py",
   "mimetype": "text/x-python",
   "name": "python",
   "nbconvert_exporter": "python",
   "pygments_lexer": "ipython3",
   "version": "3.6.8"
  },
  "toc": {
   "base_numbering": 1,
   "nav_menu": {},
   "number_sections": false,
   "sideBar": true,
   "skip_h1_title": true,
   "title_cell": "Table of Contents",
   "title_sidebar": "Contents",
   "toc_cell": false,
   "toc_position": {},
   "toc_section_display": true,
   "toc_window_display": false
  },
  "varInspector": {
   "cols": {
    "lenName": 16,
    "lenType": 16,
    "lenVar": 40
   },
   "kernels_config": {
    "python": {
     "delete_cmd_postfix": "",
     "delete_cmd_prefix": "del ",
     "library": "var_list.py",
     "varRefreshCmd": "print(var_dic_list())"
    },
    "r": {
     "delete_cmd_postfix": ") ",
     "delete_cmd_prefix": "rm(",
     "library": "var_list.r",
     "varRefreshCmd": "cat(var_dic_list()) "
    }
   },
   "types_to_exclude": [
    "module",
    "function",
    "builtin_function_or_method",
    "instance",
    "_Feature"
   ],
   "window_display": false
  }
 },
 "nbformat": 4,
 "nbformat_minor": 2
}
