{
 "cells": [
  {
   "cell_type": "markdown",
   "metadata": {},
   "source": [
    "# CS: Recursion"
   ]
  },
  {
   "cell_type": "markdown",
   "metadata": {},
   "source": [
    "## Section 1\n",
    "\n",
    "- **Recursion is the phenomenon of self-embedded structures or processes.**\n",
    "- It occurs in a wide variety of natural contexts, and consequently is an essential tool in the practice of computational analysis.**\n",
    "- Recursion has at least two important benefits for computer programs: \n",
    "    1. it can simplify code\n",
    "    2. it can speed up programs by requiring less information to be stored\n",
    "- **Base Case**: @e need to explicitly determine the first few values. These values act as seeds for the rest of the sequence, and illustrate the concept of a base case in the phenomenon of recursion."
   ]
  },
  {
   "cell_type": "markdown",
   "metadata": {},
   "source": [
    "## Section 2\n",
    "\n",
    "Recurssive Method:\n",
    "\n",
    "```Python\n",
    "def fibonacci(n):\n",
    "    if n < 0:\n",
    "        raise ValueError(\"invalid index!\")\n",
    "    if n == 0:\n",
    "        return 0\n",
    "    if n == 1:\n",
    "        return 1\n",
    "    return fibonacci(n - 1) + fibonacci(n - 2)\n",
    "```\n",
    "\n",
    "\n",
    "Iterative Method\n",
    "\n",
    "```Python\n",
    "def fibonacci(n):\n",
    "    if n < 0:\n",
    "        raise ValueError(\"invalid index!\")\n",
    "    if n == 0:\n",
    "        return 0\n",
    "    if n == 1:\n",
    "        return 1\n",
    "\n",
    "    f = [0, 1]\n",
    "    for i in range(2, n + 1):\n",
    "        f.append(f[i - 1] + f[i - 2])\n",
    "    return f[n]\n",
    "```\n",
    "\n",
    "Recursive VS. Iterative\n",
    "- The recursive logic is simpler to implement than the iterative solution, and also more idiomatically expresses the solution in a way that directly mirrors the nature of the problem.\n",
    "- However, it is not necessarily more efficient or less computationally intensive.\n",
    "\n"
   ]
  },
  {
   "cell_type": "markdown",
   "metadata": {},
   "source": [
    "## Section 3\n",
    "\n",
    "Problem Statement:\n",
    "- There are 10 stones in a line leading across the river, separated by 1 foot, and the frog is only ever able to jump one foot forward to the next stone, or two feet forward to the stone after the next. In how many different ways can he jump exactly 11 feet to the other side of the river?\n",
    "\n",
    "Solve:\n",
    "- We can define $f(n)$ to be a function which gives the number of ways for the frog to jump $n$ feet, for an arbitrary input $n$. In the end, we want to find the value of $f(11)$, where $n=11$.\n",
    "- We know that $f(1) = 1$, since the only way for the frog to reach its goal when it is one foot away is to make a single hop.\n",
    "- We know that $f(2) = 2$, since the frog can either make two one foot hops, or one two foot jump. \n",
    "- In general, when the frog is $n$ feet from its goal there are only two initial moves it can make. \n",
    "    - It can jump either one or two feet.\n",
    "    - These choices will bring it within either $n-1$ feet or $n-2$ feet of its goal.\n",
    "    - Since the frog cannot jump backwards, this means that the number of ways to jump $n$ feet is equal to the number for $n-1$ feet plus the number for $n-2$ feet.\n",
    "- $f(n) = f(n-1) + f(n-2)$"
   ]
  },
  {
   "cell_type": "code",
   "execution_count": 1,
   "metadata": {
    "ExecuteTime": {
     "end_time": "2019-05-27T10:58:02.189976Z",
     "start_time": "2019-05-27T10:58:02.185318Z"
    }
   },
   "outputs": [],
   "source": [
    "def fibonacci(n):\n",
    "    if n < 0:\n",
    "        raise ValueError(\"invalid index!\")\n",
    "    if n == 0:\n",
    "        return 0\n",
    "    if n == 1:\n",
    "        return 1\n",
    "    return fibonacci(n - 1) + fibonacci(n - 2)"
   ]
  },
  {
   "cell_type": "code",
   "execution_count": 2,
   "metadata": {
    "ExecuteTime": {
     "end_time": "2019-05-27T10:58:12.357297Z",
     "start_time": "2019-05-27T10:58:12.342716Z"
    }
   },
   "outputs": [
    {
     "data": {
      "text/plain": [
       "89"
      ]
     },
     "execution_count": 2,
     "metadata": {},
     "output_type": "execute_result"
    }
   ],
   "source": [
    "fibonacci(12) # We are using 12 instead than 11 because the problem statement starts at 1 \n",
    "              # whereas Fibonacci starts at 0"
   ]
  },
  {
   "cell_type": "markdown",
   "metadata": {},
   "source": [
    "## Section 4\n",
    "\n",
    "Binary Search Trees/Recursive:\n",
    "- The algorithm operates roughly as follows:\n",
    "    - Observe the middle element of the array.\n",
    "    - Compare the element to the target.\n",
    "    - If greater than the target, go to the first step, but only consider the first half of the array.\n",
    "    - If less than the target, go to the first step, but only consider the second half of the array.\n",
    "    - If equal to the target, you have found your target!\n",
    "    \n",
    "    \n",
    "- We repeat the same set of steps until some end condition is satisfied: \n",
    "    - either the element is found\n",
    "    - or it is determined that it does not exist in the sorted array. \n",
    "    - This end condition translates directly to the base case of the recursion in the algorithm.\n",
    "\n"
   ]
  }
 ],
 "metadata": {
  "hide_input": false,
  "kernelspec": {
   "display_name": "Python 3",
   "language": "python",
   "name": "python3"
  },
  "language_info": {
   "codemirror_mode": {
    "name": "ipython",
    "version": 3
   },
   "file_extension": ".py",
   "mimetype": "text/x-python",
   "name": "python",
   "nbconvert_exporter": "python",
   "pygments_lexer": "ipython3",
   "version": "3.6.8"
  },
  "toc": {
   "base_numbering": 1,
   "nav_menu": {},
   "number_sections": false,
   "sideBar": true,
   "skip_h1_title": true,
   "title_cell": "Table of Contents",
   "title_sidebar": "Contents",
   "toc_cell": false,
   "toc_position": {},
   "toc_section_display": true,
   "toc_window_display": false
  },
  "varInspector": {
   "cols": {
    "lenName": 16,
    "lenType": 16,
    "lenVar": 40
   },
   "kernels_config": {
    "python": {
     "delete_cmd_postfix": "",
     "delete_cmd_prefix": "del ",
     "library": "var_list.py",
     "varRefreshCmd": "print(var_dic_list())"
    },
    "r": {
     "delete_cmd_postfix": ") ",
     "delete_cmd_prefix": "rm(",
     "library": "var_list.r",
     "varRefreshCmd": "cat(var_dic_list()) "
    }
   },
   "types_to_exclude": [
    "module",
    "function",
    "builtin_function_or_method",
    "instance",
    "_Feature"
   ],
   "window_display": false
  }
 },
 "nbformat": 4,
 "nbformat_minor": 2
}
