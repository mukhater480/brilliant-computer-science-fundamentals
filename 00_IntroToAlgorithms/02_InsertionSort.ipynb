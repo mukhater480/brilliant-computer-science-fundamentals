{
 "cells": [
  {
   "cell_type": "markdown",
   "metadata": {},
   "source": [
    "# Insertion Sort"
   ]
  },
  {
   "cell_type": "markdown",
   "metadata": {},
   "source": [
    "## Section 1\n",
    "\n",
    "We’ve noted that having a sorted list is generally more useful than having an unsorted list."
   ]
  },
  {
   "cell_type": "markdown",
   "metadata": {},
   "source": [
    "## Section 2\n",
    "\n",
    "**Insertion Sort**\n",
    "- Process:\n",
    "    - Let $A$ be an array sorted in increasing order (from smallest to largest), and let $x$ be a single element outside of it. How do place *x* into our array while still keeping it sorted?\n",
    "    - Place $x$ at the end of $A$.\n",
    "    - Compare $x$ to the element on its left. There are three possibilities.\n",
    "        - If there is no element to the left, then we are done, since $x$ will be the smallest element and it is already at the start of the array.\n",
    "        - If $x$ is greater than or equal to it, then we are done; $x$ is on the right of all smaller elements and on the left of all larger elements, so the array is once again sorted.\n",
    "        - If $x$ is smaller, then it should be before the other element. Switch the two to put $x$ on front.\n",
    "    - Repeat step two until finished.\n",
    "\n",
    "\n"
   ]
  },
  {
   "cell_type": "markdown",
   "metadata": {},
   "source": [
    "## Section 3\n",
    "\n",
    "- The full insertion sort algorithm works by dividing an array into two pieces, a sorted region on the left and an unsorted region on the right.\n",
    "- Then, by repeatedly inserting elements from the unsorted half into the sorted half, the algorithm eventually produces a fully sorted array\n",
    "- Full Insertion Sort Process:\n",
    "    - Designate the leftmost element of $A$ as the only element of the sorted side. This side is guaranteed to be sorted by default, since it now contains only one element.\n",
    "    - Insert the first element of the unsorted side into the sorted side, increasing the number of sorted elements by one.\n",
    "    - Repeat step two until there are no unsorted elements left.\n",
    "\n"
   ]
  },
  {
   "cell_type": "markdown",
   "metadata": {
    "ExecuteTime": {
     "end_time": "2019-05-24T12:28:30.838804Z",
     "start_time": "2019-05-24T12:28:30.832951Z"
    }
   },
   "source": [
    "## Section 4\n",
    "\n",
    "- Insertion Sort (Worst Case)\n",
    "    - If the list is sorted but in reverse, that is, the larger numbers are at first and thus, I would to modify every the number after every comparision, then the worst case would follow the formula $((n-1)*n)/2$\n",
    "    - For example, if we have three items, then we would need at most 3 items.\n",
    "        - The first item will the smallest (no comparision)\n",
    "        - The second item will be smaller than the first item so we have to swap both values (1 comparision)\n",
    "        - The third item is smaller than the second item and the first item (2 comparision)\n",
    "        - A total of 3 comparision.\n",
    "\n",
    "- Insertion Sort (Best Case)\n",
    "    - If the list is already sorted, then each of the elements other than the first one will be compared to the element preceding it, for a total of $n-1=9$ comparisons. A list containing just one element is always guaranteed to be sorted, so no comparisons are required for the first element.\n",
    "    - Realize that the best case scenario follows a linear structure!\n",
    "\n",
    "**The worst case increases like $n^2$ for large $n$ while the best case increases linearly (like $n^2$). Unfortunately for insertion sort—as we’ll explore in the next quiz—the worst case is much more likely, and the average case also increases like**\n",
    "    "
   ]
  }
 ],
 "metadata": {
  "hide_input": false,
  "kernelspec": {
   "display_name": "Python 3",
   "language": "python",
   "name": "python3"
  },
  "language_info": {
   "codemirror_mode": {
    "name": "ipython",
    "version": 3
   },
   "file_extension": ".py",
   "mimetype": "text/x-python",
   "name": "python",
   "nbconvert_exporter": "python",
   "pygments_lexer": "ipython3",
   "version": "3.6.8"
  },
  "toc": {
   "base_numbering": 1,
   "nav_menu": {},
   "number_sections": false,
   "sideBar": true,
   "skip_h1_title": true,
   "title_cell": "Table of Contents",
   "title_sidebar": "Contents",
   "toc_cell": false,
   "toc_position": {},
   "toc_section_display": true,
   "toc_window_display": false
  },
  "varInspector": {
   "cols": {
    "lenName": 16,
    "lenType": 16,
    "lenVar": 40
   },
   "kernels_config": {
    "python": {
     "delete_cmd_postfix": "",
     "delete_cmd_prefix": "del ",
     "library": "var_list.py",
     "varRefreshCmd": "print(var_dic_list())"
    },
    "r": {
     "delete_cmd_postfix": ") ",
     "delete_cmd_prefix": "rm(",
     "library": "var_list.r",
     "varRefreshCmd": "cat(var_dic_list()) "
    }
   },
   "types_to_exclude": [
    "module",
    "function",
    "builtin_function_or_method",
    "instance",
    "_Feature"
   ],
   "window_display": false
  }
 },
 "nbformat": 4,
 "nbformat_minor": 2
}
