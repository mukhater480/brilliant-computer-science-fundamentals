{
 "cells": [
  {
   "cell_type": "markdown",
   "metadata": {},
   "source": [
    "# Arrays"
   ]
  },
  {
   "cell_type": "markdown",
   "metadata": {},
   "source": [
    "## Section 1\n",
    "\n",
    "Lists (also known as the array abstract data type) are often implemented by the array data structure.\n",
    "- Array (Abstract Data Type)\n",
    "    - The array is a basic abstract data type that holds an ordered collection of items accessible by an integer index.\n",
    "    - It can either be implemented by an array (data structure) or a dynamic array.\n",
    "        - Arrays (data structure) are a type of linear data structure that can hold an ordered collection of values. The array data structure specifies an implementation that the values are of homogeneous size and stored in contiguous memory. \n",
    "        - The dynamic array is able to change its size during program execution. This property gives the dynamic array more power in programs where the programmer does not know how much data will enter the array at any given point.\n",
    "\n",
    "![](https://ds055uzetaobb.cloudfront.net/brioche/uploads/17MHlFqBA0-112.svg?width=1500)\n",
    "\n"
   ]
  },
  {
   "cell_type": "markdown",
   "metadata": {},
   "source": [
    "## Section 2\n",
    "\n",
    "The items in an array can be anything from primitive types such as integers to more complex types like instances of classes.\n",
    "\n",
    "For a Array (data structure), the size is fixed and cannot add more values than it's size unless the array is resized or something is taken out.\n",
    "\n",
    "Each \"slot\" in the array has an associated number, called an index. By using these numbers, the programmer can directly index into the array to get specific values, which makes them very efficient.\n",
    "\n",
    "\n",
    "\n",
    "\n"
   ]
  }
 ],
 "metadata": {
  "hide_input": false,
  "kernelspec": {
   "display_name": "Python 3",
   "language": "python",
   "name": "python3"
  },
  "language_info": {
   "codemirror_mode": {
    "name": "ipython",
    "version": 3
   },
   "file_extension": ".py",
   "mimetype": "text/x-python",
   "name": "python",
   "nbconvert_exporter": "python",
   "pygments_lexer": "ipython3",
   "version": "3.6.8"
  },
  "toc": {
   "base_numbering": 1,
   "nav_menu": {},
   "number_sections": false,
   "sideBar": true,
   "skip_h1_title": true,
   "title_cell": "Table of Contents",
   "title_sidebar": "Contents",
   "toc_cell": false,
   "toc_position": {},
   "toc_section_display": true,
   "toc_window_display": false
  },
  "varInspector": {
   "cols": {
    "lenName": 16,
    "lenType": 16,
    "lenVar": 40
   },
   "kernels_config": {
    "python": {
     "delete_cmd_postfix": "",
     "delete_cmd_prefix": "del ",
     "library": "var_list.py",
     "varRefreshCmd": "print(var_dic_list())"
    },
    "r": {
     "delete_cmd_postfix": ") ",
     "delete_cmd_prefix": "rm(",
     "library": "var_list.r",
     "varRefreshCmd": "cat(var_dic_list()) "
    }
   },
   "types_to_exclude": [
    "module",
    "function",
    "builtin_function_or_method",
    "instance",
    "_Feature"
   ],
   "window_display": false
  }
 },
 "nbformat": 4,
 "nbformat_minor": 2
}
