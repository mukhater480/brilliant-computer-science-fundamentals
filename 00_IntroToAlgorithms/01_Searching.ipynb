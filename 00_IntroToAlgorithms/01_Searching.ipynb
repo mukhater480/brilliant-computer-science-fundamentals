{
 "cells": [
  {
   "cell_type": "markdown",
   "metadata": {},
   "source": [
    "# Searching"
   ]
  },
  {
   "cell_type": "markdown",
   "metadata": {},
   "source": [
    "## Section 1\n",
    "\n",
    "The search algorithm described in the previous question is known as linear search. \n",
    "\n",
    "Clearly, the worst case is very bad, since you might have to go through every element in the array.\n",
    "\n",
    "So, for linear search, the best case is great (just 1 comparison!) \n",
    "\n",
    "To determine if an element is in an array with $n$ elements using linear search, the number of comparisions we need to make is:\n",
    "- Best Case: 1 comparision\n",
    "- Worst Case: $n$ comparision\n",
    "- Average Case: ($n$ + 1)/2\n",
    "\n",
    "As we increase the elements in the array, the Average Case will also increase. Thus, if $n$ is large, it becomes problematic."
   ]
  },
  {
   "cell_type": "markdown",
   "metadata": {},
   "source": [
    "## Section 2\n",
    "\n",
    "**Binary Search**\n",
    "- Process:\n",
    "    - Start in the middle of the array. If our element is greater than it, then we know that we only have to search the right half of the array, and we can start again from the middle of that. Similarly, if our element is less than the middle element, then we can compare our element to the middle of the left-half of the original array and continue from there. Finally, if our element is equal to it, then we're done.\n",
    "- The process is the continuing halving the array until we find out answer.\n",
    "- For any number $n$, $log_2n$ gives the number of times $n$ needs to be divided by two before reaching 1.\n",
    "- *In short, binary search repeatedly chooses a number in the middle of the remaining possible numbers, and then determines if the desired number would lie to the left or right of this chosen number (or exactly the chosen number)*\n",
    "\n",
    "Example: If we have 1000 elements in a sorted array, the smallest value of $n$ such that will always be capable of determing if an element is an array is:\n",
    "- $[log_{2}1000]+1=10$\n"
   ]
  }
 ],
 "metadata": {
  "hide_input": false,
  "kernelspec": {
   "display_name": "Python 3",
   "language": "python",
   "name": "python3"
  },
  "language_info": {
   "codemirror_mode": {
    "name": "ipython",
    "version": 3
   },
   "file_extension": ".py",
   "mimetype": "text/x-python",
   "name": "python",
   "nbconvert_exporter": "python",
   "pygments_lexer": "ipython3",
   "version": "3.6.8"
  },
  "toc": {
   "base_numbering": 1,
   "nav_menu": {},
   "number_sections": false,
   "sideBar": true,
   "skip_h1_title": true,
   "title_cell": "Table of Contents",
   "title_sidebar": "Contents",
   "toc_cell": false,
   "toc_position": {},
   "toc_section_display": true,
   "toc_window_display": false
  },
  "varInspector": {
   "cols": {
    "lenName": 16,
    "lenType": 16,
    "lenVar": 40
   },
   "kernels_config": {
    "python": {
     "delete_cmd_postfix": "",
     "delete_cmd_prefix": "del ",
     "library": "var_list.py",
     "varRefreshCmd": "print(var_dic_list())"
    },
    "r": {
     "delete_cmd_postfix": ") ",
     "delete_cmd_prefix": "rm(",
     "library": "var_list.r",
     "varRefreshCmd": "cat(var_dic_list()) "
    }
   },
   "types_to_exclude": [
    "module",
    "function",
    "builtin_function_or_method",
    "instance",
    "_Feature"
   ],
   "window_display": false
  }
 },
 "nbformat": 4,
 "nbformat_minor": 2
}
